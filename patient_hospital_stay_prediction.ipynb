{
 "cells": [
  {
   "cell_type": "markdown",
   "id": "d49f1254",
   "metadata": {
    "editable": true,
    "slideshow": {
     "slide_type": ""
    },
    "tags": []
   },
   "source": [
    "---"
   ]
  },
  {
   "cell_type": "markdown",
   "id": "c1a08017",
   "metadata": {},
   "source": [
    "Before you turn this problem in, make sure everything runs as expected. First, **restart the kernel** (in the menubar, select Kernel $\\rightarrow$ Restart) and then **run all cells** (in the menubar, select Cell $\\rightarrow$ Run All).\n",
    "\n",
    "Make sure you fill in any place that says `YOUR CODE HERE` or \"YOUR ANSWER HERE\", as well as your name and collaborators below:"
   ]
  },
  {
   "cell_type": "code",
   "execution_count": 1,
   "id": "f8756ad5",
   "metadata": {},
   "outputs": [],
   "source": [
    "NAME = \"Muhammed Efe Guler\"\n",
    "COLLABORATORS = \"\""
   ]
  },
  {
   "cell_type": "markdown",
   "id": "385a1a27",
   "metadata": {},
   "source": [
    "---"
   ]
  },
  {
   "cell_type": "code",
   "execution_count": 2,
   "id": "eccd1541-aeed-49f3-850c-6cea4e8ac4aa",
   "metadata": {},
   "outputs": [
    {
     "name": "stdout",
     "output_type": "stream",
     "text": [
      "Sample Data:\n",
      "     Age  Gender  Severity  Previous_Admissions  Days_Stayed\n",
      "0    64    Male  Critical                    4         52.0\n",
      "1    67    Male     Minor                    4         45.0\n",
      "2    84  Female     Minor                    2         49.0\n",
      "3    87    Male  Critical                    0         54.0\n",
      "4    87    Male     Minor                    2         47.0\n",
      "5    29    Male  Critical                    2         35.0\n",
      "6    41  Female  Critical                    4         42.0\n",
      "7    56    Male    Medium                    0         40.0\n",
      "8    32    Male     Minor                    4         26.0\n",
      "9    78    Male  Critical                    3         58.0\n",
      "10   85    Male    Medium                    4         59.0\n",
      "11   59    Male     Minor                    4         36.0\n",
      "12   66    Male    Medium                    0         42.0\n",
      "13   57    Male    Medium                    4         44.0\n",
      "14   45    Male  Critical                    4         42.0\n",
      "15   29    Male    Medium                    2         25.0\n",
      "16   40    Male    Medium                    4         37.0\n",
      "17   89    Male  Critical                    0         59.0\n",
      "18   67    Male     Minor                    2         44.0\n",
      "19   84  Female     Minor                    1         49.0\n"
     ]
    }
   ],
   "source": [
    "import numpy as np\n",
    "import pandas as pd\n",
    "import random\n",
    "\n",
    "np.random.seed(0)\n",
    "num_patients = 1000\n",
    "\n",
    "ages = np.random.randint(20, 90, size=num_patients)\n",
    "genders = np.random.choice(['Male', 'Female'], size=num_patients)\n",
    "severities = np.random.choice(['Minor', 'Medium', 'Critical'], size=num_patients, p=[0.4, 0.3, 0.3])\n",
    "previous_admissions = np.random.randint(0, 5, size=num_patients)\n",
    "\n",
    "days_stayed = (\n",
    "    3 +  \n",
    "    (ages * 0.5) +  \n",
    "    np.where(severities == 'Minor', 0, 0) + \n",
    "    np.where(severities == 'Medium', 5, 0) + \n",
    "    np.where(severities == 'Critical', 10, 0) + \n",
    "    (previous_admissions * 2) \n",
    ") + np.random.normal(0, 2, size=num_patients)\n",
    "\n",
    "days_stayed = np.clip(np.round(days_stayed), 1, None)\n",
    "\n",
    "df = pd.DataFrame({\n",
    "    'Age': ages,\n",
    "    'Gender': genders,\n",
    "    'Severity': severities,\n",
    "    'Previous_Admissions': previous_admissions,\n",
    "    'Days_Stayed': np.clip(days_stayed, 1, None)\n",
    "})\n",
    "\n",
    "print(\"Sample Data:\\n\", df.head(20))"
   ]
  },
  {
   "cell_type": "code",
   "execution_count": 3,
   "id": "b398c538-14a7-48c0-b3b2-0dad1d2214c8",
   "metadata": {},
   "outputs": [
    {
     "name": "stdout",
     "output_type": "stream",
     "text": [
      "Data with Missing Values:\n",
      "      Age  Gender  Severity  Previous_Admissions  Days_Stayed\n",
      "0    NaN    Male  Critical                    4         52.0\n",
      "1   67.0    Male     Minor                    4         45.0\n",
      "2   84.0  Female     Minor                    2         49.0\n",
      "3   87.0    Male  Critical                    0         54.0\n",
      "4   87.0    Male     Minor                    2         47.0\n",
      "5   29.0    Male  Critical                    2         35.0\n",
      "6   41.0  Female  Critical                    4         42.0\n",
      "7   56.0    Male    Medium                    0         40.0\n",
      "8   32.0    Male     Minor                    4         26.0\n",
      "9   78.0    Male  Critical                    3         58.0\n",
      "10  85.0    Male    Medium                    4         59.0\n",
      "11  59.0    Male     Minor                    4         36.0\n",
      "12  66.0    Male    Medium                    0         42.0\n",
      "13  57.0    Male    Medium                    4         44.0\n",
      "14  45.0    Male  Critical                    4         42.0\n",
      "15  29.0    Male    Medium                    2         25.0\n",
      "16  40.0    Male    Medium                    4         37.0\n",
      "17  89.0    Male  Critical                    0         59.0\n",
      "18  67.0    Male     Minor                    2         44.0\n",
      "19  84.0  Female     Minor                    1         49.0\n",
      "20  69.0  Female  Critical                    1         50.0\n",
      "21  49.0    Male     Minor                    4         33.0\n",
      "22  39.0  Female  Critical                    2         34.0\n",
      "23  39.0  Female     Minor                    3         30.0\n",
      "24  34.0  Female     Minor                    1         22.0\n",
      "25  59.0    Male     Minor                    2         39.0\n",
      "26  52.0  Female    Medium                    1         38.0\n",
      "27  85.0  Female     Minor                    2         50.0\n",
      "28  29.0    Male  Critical                    4         34.0\n",
      "29  77.0  Female     Minor                    2         47.0\n"
     ]
    }
   ],
   "source": [
    "missing_percentage_days_stayed = 0.03 \n",
    "missing_indices = np.random.choice(df.index, int(len(df) * missing_percentage_days_stayed), replace=False)\n",
    "df.loc[missing_indices, 'Days_Stayed'] = np.nan\n",
    "\n",
    "missing_percentage_age = 0.05\n",
    "missing_indices_age = np.random.choice(df.index, int(len(df) * missing_percentage_age), replace=False)\n",
    "df.loc[missing_indices_age, 'Age'] = np.nan\n",
    "\n",
    "print(\"Data with Missing Values:\\n\", df.head(30))"
   ]
  },
  {
   "cell_type": "code",
   "execution_count": 4,
   "id": "3c256c51-f7a5-43f6-b167-ffdffb996c65",
   "metadata": {},
   "outputs": [
    {
     "name": "stdout",
     "output_type": "stream",
     "text": [
      "     Age  Gender  Severity  Previous_Admissions  Days_Stayed\n",
      "0   53.0    Male  Critical                    4         52.0\n",
      "1   67.0    Male     Minor                    4         45.0\n",
      "2   84.0  Female     Minor                    2         49.0\n",
      "3   87.0    Male  Critical                    0         54.0\n",
      "4   87.0    Male     Minor                    2         47.0\n",
      "5   29.0    Male  Critical                    2         35.0\n",
      "6   41.0  Female  Critical                    4         42.0\n",
      "7   56.0    Male    Medium                    0         40.0\n",
      "8   32.0    Male     Minor                    4         26.0\n",
      "9   78.0    Male  Critical                    3         58.0\n",
      "10  85.0    Male    Medium                    4         59.0\n",
      "11  59.0    Male     Minor                    4         36.0\n",
      "12  66.0    Male    Medium                    0         42.0\n",
      "13  57.0    Male    Medium                    4         44.0\n",
      "14  45.0    Male  Critical                    4         42.0\n",
      "15  29.0    Male    Medium                    2         25.0\n",
      "16  40.0    Male    Medium                    4         37.0\n",
      "17  89.0    Male  Critical                    0         59.0\n",
      "18  67.0    Male     Minor                    2         44.0\n",
      "19  84.0  Female     Minor                    1         49.0\n"
     ]
    }
   ],
   "source": [
    "df['Days_Stayed'] = df['Days_Stayed'].fillna(int(df['Days_Stayed'].mean()))\n",
    "df['Age'] = df['Age'].fillna(int(df['Age'].mean()))\n",
    "print(df.head(20))"
   ]
  },
  {
   "cell_type": "code",
   "execution_count": 5,
   "id": "d77883c5-a13e-4754-a1ef-426656876c2f",
   "metadata": {},
   "outputs": [
    {
     "data": {
      "image/png": "[encoded data removed]",
      "text/plain": [
       "<Figure size 640x480 with 1 Axes>"
      ]
     },
     "metadata": {},
     "output_type": "display_data"
    }
   ],
   "source": [
    "import matplotlib.pyplot as plt\n",
    "\n",
    "age_groups = range(20, 100, 10)\n",
    "age_labels = [f'{i}-{i+9}' for i in age_groups[:-1]]\n",
    "df['Age_Group'] = pd.cut(df['Age'], bins=age_groups, labels=age_labels, right=False)\n",
    "age_group_counts = df['Age_Group'].value_counts(sort=False)\n",
    "\n",
    "plt.bar(age_group_counts.index.astype(str), age_group_counts.values, color='skyblue', edgecolor='black')\n",
    "plt.title('Age Distribution')\n",
    "plt.xlabel('Age Groups')\n",
    "plt.ylabel('Number of People')\n",
    "plt.xticks(rotation=45)\n",
    "plt.show()"
   ]
  },
  {
   "cell_type": "code",
   "execution_count": 6,
   "id": "a99a3dbb-9932-4f2b-a119-bc5cb8f3670a",
   "metadata": {},
   "outputs": [
    {
     "data": {
      "image/png": "[encoded data removed]",
      "text/plain": [
       "<Figure size 800x600 with 1 Axes>"
      ]
     },
     "metadata": {},
     "output_type": "display_data"
    }
   ],
   "source": [
    "severity_means = df.groupby('Severity')['Days_Stayed'].mean()\n",
    "plt.figure(figsize=(8, 6))\n",
    "severity_means.plot(kind='bar', color=['green', 'orange', 'red'], edgecolor='black', alpha=0.8)\n",
    "plt.title('Average Days Stayed by Severity Level', fontsize=16)\n",
    "plt.xlabel('Severity Level', fontsize=12)\n",
    "plt.ylabel('Average Days Stayed', fontsize=12)\n",
    "plt.xticks(rotation=0, fontsize=10)\n",
    "plt.grid(axis='y', linestyle='--', alpha=0.7)\n",
    "plt.show()"
   ]
  },
  {
   "cell_type": "code",
   "execution_count": null,
   "id": "223ee401-90f4-4245-85c7-0de5b78cbf6e",
   "metadata": {},
   "outputs": [],
   "source": [
    "plt.figure(figsize=(8, 6))\n",
    "plt.scatter(df['Age'], df['Days_Stayed'], alpha=0.6, color='red', edgecolor='k')\n",
    "plt.title('Days Stayed vs Age', fontsize=16)\n",
    "plt.xlabel('Age', fontsize=12)\n",
    "plt.ylabel('Days Stayed', fontsize=12)\n",
    "plt.grid(True, linestyle='--', alpha=0.7)\n",
    "plt.show()"
   ]
  },
  {
   "cell_type": "code",
   "execution_count": 8,
   "id": "9a9590a5-29d6-4515-ae2d-9cb0f34cbd2a",
   "metadata": {},
   "outputs": [
    {
     "name": "stdout",
     "output_type": "stream",
     "text": [
      "    Age  Gender  Previous_Admissions  Days_Stayed Age_Group  \\\n",
      "0  53.0    Male                    4         52.0     50-59   \n",
      "1  67.0    Male                    4         45.0     60-69   \n",
      "2  84.0  Female                    2         49.0     80-89   \n",
      "3  87.0    Male                    0         54.0     80-89   \n",
      "4  87.0    Male                    2         47.0     80-89   \n",
      "5  29.0    Male                    2         35.0     20-29   \n",
      "6  41.0  Female                    4         42.0     40-49   \n",
      "7  56.0    Male                    0         40.0     50-59   \n",
      "8  32.0    Male                    4         26.0     30-39   \n",
      "9  78.0    Male                    3         58.0     70-79   \n",
      "\n",
      "   Severity_Critical  Severity_Medium  Severity_Minor  \n",
      "0                1.0              0.0             0.0  \n",
      "1                0.0              0.0             1.0  \n",
      "2                0.0              0.0             1.0  \n",
      "3                1.0              0.0             0.0  \n",
      "4                0.0              0.0             1.0  \n",
      "5                1.0              0.0             0.0  \n",
      "6                1.0              0.0             0.0  \n",
      "7                0.0              1.0             0.0  \n",
      "8                0.0              0.0             1.0  \n",
      "9                1.0              0.0             0.0  \n"
     ]
    }
   ],
   "source": [
    "from sklearn.preprocessing import OneHotEncoder\n",
    "\n",
    "encoded_columns = ['Severity']\n",
    "encoder = OneHotEncoder(sparse_output=False, drop=None)\n",
    "encoded_array = encoder.fit_transform(df[encoded_columns])\n",
    "encoded_df = pd.DataFrame(encoded_array, columns=encoder.get_feature_names_out(encoded_columns))\n",
    "df_encoded = pd.concat([df, encoded_df], axis=1)\n",
    "df_encoded.drop(columns=encoded_columns, inplace=True)\n",
    "\n",
    "print(df_encoded.head(10))"
   ]
  },
  {
   "cell_type": "code",
   "execution_count": 9,
   "id": "6dc55e6b-bf2f-4a14-a1bf-d46c3678747c",
   "metadata": {},
   "outputs": [
    {
     "name": "stdout",
     "output_type": "stream",
     "text": [
      "Mean Squared Error: 10.52\n",
      "R-squared: 0.92\n",
      "Model Intercept: 8.40\n"
     ]
    }
   ],
   "source": [
    "from sklearn.model_selection import train_test_split\n",
    "from sklearn.linear_model import LinearRegression\n",
    "from sklearn.metrics import mean_squared_error, r2_score\n",
    "\n",
    "X = df_encoded[['Age', 'Previous_Admissions', 'Severity_Minor', 'Severity_Medium', 'Severity_Critical']]\n",
    "y = df_encoded['Days_Stayed']\n",
    "\n",
    "X_train, X_test, y_train, y_test = train_test_split(X, y, test_size=0.2, random_state=0)\n",
    "\n",
    "linear_model = LinearRegression()\n",
    "linear_model.fit(X_train, y_train)\n",
    "\n",
    "y_pred = linear_model.predict(X_test)\n",
    "\n",
    "mse = mean_squared_error(y_test, y_pred)\n",
    "r2 = r2_score(y_test, y_pred)\n",
    "intercept = linear_model.intercept_\n",
    "\n",
    "print(f\"Mean Squared Error: {mse:.2f}\")\n",
    "print(f\"R-squared: {r2:.2f}\")\n",
    "print(f\"Model Intercept: {intercept:.2f}\")"
   ]
  },
  {
   "cell_type": "code",
   "execution_count": null,
   "id": "c4701066-0073-437b-b9fe-cc8d1648234d",
   "metadata": {},
   "outputs": [],
   "source": [
    "import matplotlib.pyplot as plt\n",
    "\n",
    "plt.figure(figsize=(8, 6))\n",
    "plt.scatter(y_test, y_pred, alpha=0.6, color='blue', edgecolor='k')\n",
    "plt.plot([y_test.min(), y_test.max()], [y_test.min(), y_test.max()], 'r--', lw=2)\n",
    "plt.title('Actual vs Predicted Days Stayed', fontsize=16)\n",
    "plt.xlabel('Days Stayed', fontsize=12)\n",
    "plt.ylabel('Predicted Days Stayed', fontsize=12)\n",
    "plt.grid(True, linestyle='--', alpha=0.7)\n",
    "plt.show()"
   ]
  },
  {
   "cell_type": "code",
   "execution_count": null,
   "id": "80f583ca-789e-42f2-b91b-dfb8be004481",
   "metadata": {},
   "outputs": [],
   "source": []
  }
 ],
 "metadata": {
  "kernelspec": {
   "display_name": "Python 3 (ipykernel)",
   "language": "python",
   "name": "python3"
  },
  "language_info": {
   "codemirror_mode": {
    "name": "ipython",
    "version": 3
   },
   "file_extension": ".py",
   "mimetype": "text/x-python",
   "name": "python",
   "nbconvert_exporter": "python",
   "pygments_lexer": "ipython3",
   "version": "3.12.2"
  }
 },
 "nbformat": 4,
 "nbformat_minor": 5
}
